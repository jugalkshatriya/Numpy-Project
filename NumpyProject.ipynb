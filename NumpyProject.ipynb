{
 "cells": [
  {
   "cell_type": "code",
   "execution_count": 1,
   "id": "9198697b-ce68-4100-9f61-1367dec5d882",
   "metadata": {},
   "outputs": [],
   "source": [
    "import numpy as np"
   ]
  },
  {
   "cell_type": "code",
   "execution_count": 33,
   "id": "fa2bb2df-3b16-4488-8ad0-df26c7f0465d",
   "metadata": {},
   "outputs": [
    {
     "name": "stdout",
     "output_type": "stream",
     "text": [
      "[[  -1   -1   -1 ...   -1   -1   -1]\n",
      " [   5   51 7107 ...    1   23    3]\n",
      " [   5   39 6354 ...    2   25    2]\n",
      " ...\n",
      " [   3   29 6618 ...    2   28    1]\n",
      " [   4   15 8321 ...    1   19    1]\n",
      " [   5   57 2950 ...    1   25    1]]\n",
      "(7189, 282)\n",
      "int32\n"
     ]
    }
   ],
   "source": [
    "# dtype of the csv is float so we change it to integer\n",
    "data = np.genfromtxt(\"dataset.csv\", dtype=int, delimiter=\"\\t\")\n",
    "print(data)\n",
    "print(data.shape)\n",
    "print(data.dtype)"
   ]
  },
  {
   "cell_type": "code",
   "execution_count": 44,
   "id": "890c9bdb-a085-4422-8fc0-08847d16a3e3",
   "metadata": {},
   "outputs": [
    {
     "name": "stdout",
     "output_type": "stream",
     "text": [
      "[[   1   11 7863 ...    1   53    3]\n",
      " [   5   53 2328 ...    1   22    1]\n",
      " [   5    6 3834 ...    1   25    1]\n",
      " ...\n",
      " [   3   29 6618 ...    2   28    1]\n",
      " [   4   15 8321 ...    1   19    1]\n",
      " [   5   57 2950 ...    1   25    1]]\n"
     ]
    }
   ],
   "source": [
    "# first row is of column name so we have to remove\n",
    "data = data[1:,:]\n",
    "print(data)"
   ]
  },
  {
   "cell_type": "code",
   "execution_count": 65,
   "id": "ecc802bd-7959-40ad-afbe-0bc883d7847f",
   "metadata": {},
   "outputs": [
    {
     "name": "stdout",
     "output_type": "stream",
     "text": [
      "[3 1 1 ... 1 1 1]\n",
      "[0 1 2 3] [  25 4398  988 1767]\n",
      "7178\n",
      "No answer 0.35\n",
      "Introverts 61.27\n",
      "Extroverts 13.76\n",
      "Not Identify 24.62\n"
     ]
    }
   ],
   "source": [
    "# slicing the last column (output column)\n",
    "ie_column = data[:,-1]\n",
    "print(ie_column)\n",
    " \n",
    "# now to find the unique value\n",
    "answer, count = np.unique(ie_column, return_counts = True)\n",
    "print(answer,count)\n",
    "total = count.sum()\n",
    "print(total)\n",
    "\n",
    "# percentage\n",
    "print(\"No answer\", round(count[0]/total*100,2))\n",
    "print(\"Introverts\", round(count[1]/total*100,2))\n",
    "print(\"Extroverts\", round(count[2]/total*100,2))\n",
    "print(\"Not Identify\", round(count[3]/total*100,2))"
   ]
  },
  {
   "cell_type": "code",
   "execution_count": 93,
   "id": "07d13723-76d5-4dba-957c-69caa2381bac",
   "metadata": {},
   "outputs": [],
   "source": [
    "questions = {\n",
    " \"Q1\" : \"I would never audition to be on a game show.\",\n",
    " \"Q2\" : \"I am not much of a flirt.\",\n",
    " \"Q3\" : \"I have to psych myself up before I am brave enough to make a phone call.\",\n",
    " \"Q4\" : \"I would hate living with room mates.\",\n",
    " \"Q5\" : \"I mostly listen to people in conversations.\",\n",
    " \"Q6\" : \"I reveal little about myself.\",\n",
    " \"Q7\" : \"I spend hours alone with my hobbies.\",\n",
    " \"Q8\" : \"I prefer to eat alone.\",\n",
    " \"Q9\" : \"I have trouble finding people I want to be friends with.\",\n",
    " \"Q10\" : \"I prefer to socialize 1 on 1, than with a group.\",\n",
    " \"Q11\" : \"I sometimes speak so quietly people sometimes have trouble hearing me.\",\n",
    " \"Q12\" : \"I do not like to get my picture taken.\",\n",
    " \"Q13\" : \"I can keep a conversation going with anyone about anything.\",\n",
    " \"Q14\" : \"I want a huge social circle.\",\n",
    " \"Q15\" : \"I talk to people when waiting in lines.\",\n",
    " \"Q16\" : \"I act wild and crazy.\",\n",
    " \"Q17\" : \"I am a bundle of joy.\",\n",
    " \"Q18\" : \"I love excitement.\",\n",
    " \"Q19\" : \"I&apos;d like to be in a parade.\",\n",
    " \"Q20\" : \"I am a flamboyant person.\",\n",
    " \"Q21\" : \"I am good at making impromptu speeches.\",\n",
    " \"Q22\" : \"I naturally emerge as a leader.\",\n",
    " \"Q23\" : \"I am spontaneous.\",\n",
    " \"Q24\" : \"I would enjoy being a sports team coach.\",\n",
    " \"Q25\" : \"I have a strong personality.\",\n",
    " \"Q26\" : \"I am excited by many different activities.\",\n",
    " \"Q27\" : \"I spend most of my time in fantasy worlds.\",\n",
    " \"Q28\" : \"I often feel lucky.\",\n",
    " \"Q29\" : \"I don't make eye contact when I talk with people.\",\n",
    " \"Q30\" : \"I have a monotone voice.\",\n",
    " \"Q31\" : \"I am a touchy feely person.\",\n",
    " \"Q32\" : \"I would like to try bungee jumping.\",\n",
    " \"Q33\" : \"I tend to be admired by others.\",\n",
    " \"Q34\" : \"I make big physical movements whenever I get excited.\",\n",
    " \"Q35\" : \"I am brave.\",\n",
    " \"Q36\" : \"I am always in the moment.\",\n",
    " \"Q37\" : \"I am involved with my community.\",\n",
    " \"Q38\" : \"I am good an entertaining children.\",\n",
    " \"Q39\" : \"I like formal occasions.\",\n",
    " \"Q40\" : \"I would have to be lost for a very long time before asking help.\",\n",
    " \"Q41\" : \"I do not care about sports.\",\n",
    " \"Q42\" : \"I prefer individual sports to team sports.\",\n",
    " \"Q43\" : \"My parents know nothing about my love life.\",\n",
    " \"Q44\" : \"I mostly listen to people in conversations.\",\n",
    " \"Q45\" : \"I never leave the door to my room open.\",\n",
    " \"Q46\" : \"I make a lot of hand motions when I talk.\",\n",
    " \"Q47\" : \"I take lots of pictures of my activities.\",\n",
    " \"Q48\" : \"When I was a child, I put on fake concerts and plays with my friends.\",\n",
    " \"Q49\" : \"I really like dancing.\",\n",
    " \"Q50\" : \"I would have difficulty describing myself to someone.\",\n",
    " \"Q51\" : \"My life would not make a good story.\",\n",
    " \"Q52\" : \"I am hesitant to give suggestions.\",\n",
    " \"Q53\" : \"I tire out quickly.\",\n",
    " \"Q54\" : \"I never tell people the important things about myself.\",\n",
    " \"Q55\" : \"I avoid going to unknown places.\",\n",
    " \"Q56\" : \"Going to the doctor is always awkward for me.\",\n",
    " \"Q57\" : \"I have not kept up with my old friends over the years.\",\n",
    " \"Q58\" : \"I have not been joyful for quite some time.\",\n",
    " \"Q59\" : \"I hate to ask for help.\",\n",
    " \"Q60\" : \"If I were to die, I would not want there to be a memorial for me.\",\n",
    " \"Q61\" : \"I hate shopping.\",\n",
    " \"Q62\" : \"I love to do impressions.\",\n",
    " \"Q63\" : \"I would be pleased if asked to speak at a funeral.\",\n",
    " \"Q64\" : \"I would never go to a dance club.\",\n",
    " \"Q65\" : \"I find it very hard to tell people I find them attractive.\",\n",
    " \"Q66\" : \"I hate people.\",\n",
    " \"Q67\" : \"I was an outcast in school.\",\n",
    " \"Q68\" : \"I would enjoy being a librarian.\",\n",
    " \"Q69\" : \"I am usually not single.\",\n",
    " \"Q70\" : \"I am able to stand up for myself.\",\n",
    " \"Q71\" : \"I would go surfing regularly if I lived on a beach.\",\n",
    " \"Q72\" : \"I have wanted to be a stand-up comedian.\",\n",
    " \"Q73\" : \"I am a high status person.\",\n",
    " \"Q74\" : \"I work out regularly.\",\n",
    " \"Q75\" : \"I laugh a lot.\",\n",
    " \"Q76\" : \"I like pranks.\",\n",
    " \"Q77\" : \"I am happy with my life.\",\n",
    " \"Q78\" : \"I am never at a loss for words.\",\n",
    " \"Q79\" : \"I feel healthy and vibrant most of the time.\",\n",
    " \"Q80\" : \"I love large parties.\",\n",
    " \"Q81\" : \"I am quiet around strangers.\",\n",
    " \"Q82\" : \"I don&#39;t talk a lot.\",\n",
    " \"Q83\" : \"I keep in the background.\",\n",
    " \"Q84\" : \"I don&#39;t like to draw attention to myself.\",\n",
    " \"Q85\" : \"I have little to say.\",\n",
    " \"Q86\" : \"I often feel blue.\",\n",
    " \"Q87\" : \"I am not really interested in others.\",\n",
    " \"Q88\" : \"I make people feel at ease.\",\n",
    " \"Q89\" : \"I don&#39;t mind being the center of attention.\",\n",
    " \"Q90\" : \"I start conversations.\",\n",
    " \"Q91\" : \"I talk to a lot of different people at parties.\"\n",
    "}\n"
   ]
  },
  {
   "cell_type": "code",
   "execution_count": 94,
   "id": "a47399af-f224-4a92-92f2-587ddbf4c531",
   "metadata": {},
   "outputs": [
    {
     "name": "stdout",
     "output_type": "stream",
     "text": [
      "['I would never audition to be on a game show.'\n",
      " 'I am not much of a flirt.'\n",
      " 'I have to psych myself up before I am brave enough to make a phone call.'\n",
      " 'I would hate living with room mates.'\n",
      " 'I mostly listen to people in conversations.'\n",
      " 'I reveal little about myself.' 'I spend hours alone with my hobbies.'\n",
      " 'I prefer to eat alone.'\n",
      " 'I have trouble finding people I want to be friends with.'\n",
      " 'I prefer to socialize 1 on 1, than with a group.'\n",
      " 'I sometimes speak so quietly people sometimes have trouble hearing me.'\n",
      " 'I do not like to get my picture taken.'\n",
      " 'I can keep a conversation going with anyone about anything.'\n",
      " 'I want a huge social circle.' 'I talk to people when waiting in lines.'\n",
      " 'I act wild and crazy.' 'I am a bundle of joy.' 'I love excitement.'\n",
      " 'I&apos;d like to be in a parade.' 'I am a flamboyant person.'\n",
      " 'I am good at making impromptu speeches.'\n",
      " 'I naturally emerge as a leader.' 'I am spontaneous.'\n",
      " 'I would enjoy being a sports team coach.' 'I have a strong personality.'\n",
      " 'I am excited by many different activities.'\n",
      " 'I spend most of my time in fantasy worlds.' 'I often feel lucky.'\n",
      " \"I don't make eye contact when I talk with people.\"\n",
      " 'I have a monotone voice.' 'I am a touchy feely person.'\n",
      " 'I would like to try bungee jumping.' 'I tend to be admired by others.'\n",
      " 'I make big physical movements whenever I get excited.' 'I am brave.'\n",
      " 'I am always in the moment.' 'I am involved with my community.'\n",
      " 'I am good an entertaining children.' 'I like formal occasions.'\n",
      " 'I would have to be lost for a very long time before asking help.'\n",
      " 'I do not care about sports.'\n",
      " 'I prefer individual sports to team sports.'\n",
      " 'My parents know nothing about my love life.'\n",
      " 'I mostly listen to people in conversations.'\n",
      " 'I never leave the door to my room open.'\n",
      " 'I make a lot of hand motions when I talk.'\n",
      " 'I take lots of pictures of my activities.'\n",
      " 'When I was a child, I put on fake concerts and plays with my friends.'\n",
      " 'I really like dancing.'\n",
      " 'I would have difficulty describing myself to someone.'\n",
      " 'My life would not make a good story.'\n",
      " 'I am hesitant to give suggestions.' 'I tire out quickly.'\n",
      " 'I never tell people the important things about myself.'\n",
      " 'I avoid going to unknown places.'\n",
      " 'Going to the doctor is always awkward for me.'\n",
      " 'I have not kept up with my old friends over the years.'\n",
      " 'I have not been joyful for quite some time.' 'I hate to ask for help.'\n",
      " 'If I were to die, I would not want there to be a memorial for me.'\n",
      " 'I hate shopping.' 'I love to do impressions.'\n",
      " 'I would be pleased if asked to speak at a funeral.'\n",
      " 'I would never go to a dance club.'\n",
      " 'I find it very hard to tell people I find them attractive.'\n",
      " 'I hate people.' 'I was an outcast in school.'\n",
      " 'I would enjoy being a librarian.' 'I am usually not single.'\n",
      " 'I am able to stand up for myself.'\n",
      " 'I would go surfing regularly if I lived on a beach.'\n",
      " 'I have wanted to be a stand-up comedian.' 'I am a high status person.'\n",
      " 'I work out regularly.' 'I laugh a lot.' 'I like pranks.'\n",
      " 'I am happy with my life.' 'I am never at a loss for words.'\n",
      " 'I feel healthy and vibrant most of the time.' 'I love large parties.'\n",
      " 'I am quiet around strangers.' 'I don&#39;t talk a lot.'\n",
      " 'I keep in the background.'\n",
      " 'I don&#39;t like to draw attention to myself.' 'I have little to say.'\n",
      " 'I often feel blue.' 'I am not really interested in others.'\n",
      " 'I make people feel at ease.'\n",
      " 'I don&#39;t mind being the center of attention.'\n",
      " 'I start conversations.'\n",
      " 'I talk to a lot of different people at parties.']\n"
     ]
    }
   ],
   "source": [
    "questions = np.array(list(questions.values()))\n",
    "print(questions)"
   ]
  },
  {
   "cell_type": "code",
   "execution_count": 101,
   "id": "baf915a6-9c0a-4989-bf88-5fd940a33c8a",
   "metadata": {},
   "outputs": [
    {
     "name": "stdout",
     "output_type": "stream",
     "text": [
      "[[ 7863 11375  5380 ...  2978  3218  7427]\n",
      " [ 2328  2303  2831 ... 22727 24424  1919]\n",
      " [ 3834  1759  5280 ...  4519  4130  3547]\n",
      " ...\n",
      " [ 6618  2393  5768 ...  3815  2345  3425]\n",
      " [ 8321  6179  5037 ... 14867  1187 17416]\n",
      " [ 2950  2232  7095 ...  2780  1843  1901]]\n"
     ]
    }
   ],
   "source": [
    "# Getting average time elapsed of question \n",
    "time_elapsed = data[:,2:3*91+1:3]\n",
    "time_elapsed[time_elapsed>120000] = 120000\n",
    "print(time_elapsed)"
   ]
  },
  {
   "cell_type": "code",
   "execution_count": 102,
   "id": "f70de254-f220-43d5-acac-e73f0b639218",
   "metadata": {},
   "outputs": [
    {
     "name": "stdout",
     "output_type": "stream",
     "text": [
      "[5149.18222346 4271.68528838 6078.88966286 4739.98704374 4747.49066592\n",
      " 4073.30384508 4286.65645026 3786.91432154 5303.67121761 5100.43675118\n",
      " 5498.25954305 4259.66132627 5687.82418501 3796.98021733 4642.3594316\n",
      " 3510.3336584  3786.51448872 3481.37740318 4025.98147116 5502.85789914\n",
      " 5067.90470883 4092.03190304 3656.1156311  4523.81387573 3806.27417108\n",
      " 5119.65728615 4366.17985511 3630.26330454 4658.51504597 4634.76107551\n",
      " 4298.82906102 3864.28545556 4527.1376428  5905.15826135 3317.80551686\n",
      " 4348.95625522 3959.00208972 4272.75578155 4089.20089161 7341.45848426\n",
      " 3704.37099471 5637.88938423 4635.10378936 4764.72903316 5616.25592087\n",
      " 4566.9598774  4308.11925327 6105.19671218 3172.21064363 5470.98495403\n",
      " 5016.48578991 4977.71301198 3972.44775704 5484.50752299 4880.32822513\n",
      " 4368.26636946 5604.65324603 4931.30273057 3790.12733352 6948.92699916\n",
      " 3392.15631095 3865.15185288 5721.6673168  4154.36542212 6075.57857342\n",
      " 3488.78308721 4336.96238507 4035.59696294 5001.2064642  3986.88381165\n",
      " 5060.49930343 4249.48133185 4146.24700474 3142.84745054 3253.73335191\n",
      " 3237.57620507 3250.4856506  5116.16801337 4316.33254388 3356.9465032\n",
      " 3695.33728058 3391.79520758 3699.96935079 4109.05809418 3577.9913625\n",
      " 3537.73739203 4478.00654778 4160.75564224 4268.73878518 3214.12120368\n",
      " 4778.60058512]\n"
     ]
    },
    {
     "data": {
      "text/plain": [
       "(91,)"
      ]
     },
     "execution_count": 102,
     "metadata": {},
     "output_type": "execute_result"
    }
   ],
   "source": [
    "mean_elapsed = time_elapsed.mean(axis = 0)\n",
    "print(mean_elapsed)\n",
    "mean_elapsed.shape"
   ]
  },
  {
   "cell_type": "code",
   "execution_count": 96,
   "id": "f63a99c8-bf95-4210-85d9-6c0a65b9ac6e",
   "metadata": {},
   "outputs": [],
   "source": [
    "# now to sort the array\n",
    "#print(mean_elapsed.argsort())"
   ]
  },
  {
   "cell_type": "code",
   "execution_count": 103,
   "id": "0b084553-f925-4601-abc8-7bcccdecdf18",
   "metadata": {},
   "outputs": [
    {
     "name": "stdout",
     "output_type": "stream",
     "text": [
      "5 fastest question to reply\n",
      "['I work out regularly.' 'I really like dancing.' 'I start conversations.'\n",
      " 'I like pranks.' 'I am happy with my life.']\n",
      "5 slowest question to reply\n",
      "['I would have to be lost for a very long time before asking help.'\n",
      " 'If I were to die, I would not want there to be a memorial for me.'\n",
      " 'When I was a child, I put on fake concerts and plays with my friends.'\n",
      " 'I have to psych myself up before I am brave enough to make a phone call.'\n",
      " 'I find it very hard to tell people I find them attractive.']\n"
     ]
    }
   ],
   "source": [
    "question_sorted = questions[mean_elapsed.argsort()]\n",
    "print(\"5 fastest question to reply\")\n",
    "print(question_sorted[:5])\n",
    "print(\"5 slowest question to reply\")\n",
    "print(question_sorted[:-6:-1])"
   ]
  },
  {
   "cell_type": "code",
   "execution_count": 106,
   "id": "9c78c4a0-384d-43ac-a079-4be590401a61",
   "metadata": {},
   "outputs": [
    {
     "name": "stdout",
     "output_type": "stream",
     "text": [
      "Average age of introvert in test : 28.327194179172352\n",
      "Average age of introvert in test : 28.572874493927124\n"
     ]
    }
   ],
   "source": [
    "# Investigate introverts vs extroverts\n",
    "introverts = data[data[:,281]==1]\n",
    "extroverts = data[data[:,281]==2]\n",
    "\n",
    "print(\"Average age of introvert in test :\",introverts[:,280].mean())\n",
    "print(\"Average age of introvert in test :\",extroverts[:,280].mean())"
   ]
  },
  {
   "cell_type": "code",
   "execution_count": 108,
   "id": "229c945c-284c-42e3-9440-b5465466412a",
   "metadata": {},
   "outputs": [
    {
     "name": "stdout",
     "output_type": "stream",
     "text": [
      "[4.05684402 3.78876762 3.81855389 3.48044566 4.13028649 3.81377899\n",
      " 4.45679854 3.49681673 3.96703047 4.28831287 3.16280127 3.96498408\n",
      " 2.36107322 1.74556617 1.74624829 2.13892678 2.36721237 3.56502956\n",
      " 1.84356526 2.02364711 2.23169623 2.67689859 2.94611187 1.72942246\n",
      " 3.35720782 3.42246476 3.5836744  2.87903593 2.86493861 2.60936789\n",
      " 2.71555252 2.76125512 2.86675762 2.8897226  3.15097772 2.46316508\n",
      " 2.12232833 2.9049568  2.60891314 3.60209186 3.64347431 3.64142792\n",
      " 3.67235107 4.13233288 3.57958163 3.34856753 2.11164166 2.5152342\n",
      " 2.5941337  3.79399727 3.19554343 3.02114598 3.70486585 3.59049568\n",
      " 2.81332424 3.44270123 3.61323329 3.10095498 3.98203729 2.97453388\n",
      " 3.12210095 2.368804   1.91086858 3.2746703  3.83765348 2.7737608\n",
      " 3.2994543  3.37858117 2.06821282 3.62096407 2.2680764  1.81332424\n",
      " 1.99499773 2.3888131  3.68417462 2.60209186 3.08435653 2.36084584\n",
      " 2.61277854 1.74170077 4.40450205 3.62687585 4.09618008 4.09345157\n",
      " 2.87062301 3.57298772 2.72396544 3.40609368 2.21532515 2.46430196\n",
      " 1.81059573]\n",
      "[2.65890688 2.3694332  2.4402834  2.3694332  2.92712551 2.44736842\n",
      " 3.30465587 2.06983806 2.42408907 3.05769231 1.75809717 2.66093117\n",
      " 4.05465587 3.39271255 3.29757085 3.48178138 3.70242915 4.6194332\n",
      " 3.29149798 3.49291498 3.61133603 4.01923077 4.13866397 2.86133603\n",
      " 4.46153846 4.5111336  2.66902834 3.57793522 1.7965587  1.65789474\n",
      " 3.5597166  3.47165992 3.76619433 3.98076923 4.05465587 3.37550607\n",
      " 3.31174089 3.95951417 3.70546559 2.63663968 2.88157895 2.74696356\n",
      " 3.06072874 2.91902834 2.74696356 4.08805668 3.00809717 3.51821862\n",
      " 3.75708502 2.56174089 1.99595142 1.86437247 2.46659919 2.45748988\n",
      " 1.79453441 2.3805668  2.70748988 2.18522267 2.97672065 2.02226721\n",
      " 2.201417   3.35526316 3.12348178 1.87854251 2.60121457 1.75506073\n",
      " 2.39878543 2.4402834  2.8582996  4.35222672 3.13866397 2.64979757\n",
      " 2.88866397 2.96862348 4.56174089 3.3582996  3.82489879 3.57793522\n",
      " 3.66194332 3.76518219 2.4645749  1.54149798 2.02935223 2.31174089\n",
      " 1.5        2.72975709 1.68927126 4.18319838 4.03744939 4.39979757\n",
      " 4.03441296]\n"
     ]
    }
   ],
   "source": [
    "introverts_ratings = introverts[:,0:91*3:3]\n",
    "extroverts_ratings = extroverts[:,0:91*3:3]\n",
    "\n",
    "introverts_avg_ratings = introverts_ratings.mean(axis = 0)\n",
    "extroverts_avg_ratings = extroverts_ratings.mean(axis = 0)\n",
    "\n",
    "print(introverts_avg_ratings)\n",
    "print(extroverts_avg_ratings)"
   ]
  },
  {
   "cell_type": "code",
   "execution_count": 113,
   "id": "da68e69d-a917-4094-844d-75dcd7df52cf",
   "metadata": {},
   "outputs": [
    {
     "name": "stdout",
     "output_type": "stream",
     "text": [
      "Introvert heighest rating : I spend hours alone with my hobbies.\n",
      "Extroverts heighest rating : I love excitement.\n",
      "Introvert lowest rating : I would enjoy being a sports team coach.\n",
      "Extroverts lowest rating : I have little to say.\n"
     ]
    }
   ],
   "source": [
    "# ratings for introverts and extroverts\n",
    "print(\"Introvert heighest rating :\", questions[introverts_avg_ratings.argmax()])\n",
    "print(\"Extroverts heighest rating :\", questions[extroverts_avg_ratings.argmax()])\n",
    "\n",
    "print(\"Introvert lowest rating :\", questions[introverts_avg_ratings.argmin()])\n",
    "print(\"Extroverts lowest rating :\", questions[extroverts_avg_ratings.argmin()])"
   ]
  },
  {
   "cell_type": "code",
   "execution_count": 114,
   "id": "59365a0d-ff80-44f1-867a-a04cde71996f",
   "metadata": {},
   "outputs": [],
   "source": [
    " import matplotlib.pyplot as plt"
   ]
  },
  {
   "cell_type": "code",
   "execution_count": 121,
   "id": "ebcd0478-ac5d-4548-9612-5223322d9773",
   "metadata": {},
   "outputs": [
    {
     "data": {
      "image/png": "[encoded data removed]",
      "text/plain": [
       "<Figure size 640x480 with 1 Axes>"
      ]
     },
     "metadata": {},
     "output_type": "display_data"
    }
   ],
   "source": [
    "# is there is a connection between question length and elapsed time \n",
    "len_vectorize = np.vectorize(len)\n",
    "length_of_question = len_vectorize(questions)\n",
    "plt.scatter(length_of_question, mean_elapsed)\n",
    "\n",
    "plt.xlabel(\"Length of the question\")\n",
    "plt.ylabel(\"Mean time to answer\")\n",
    "\n",
    "a,b = np.polyfit(length_of_question,mean_elapsed,1)\n",
    "plt.plot(length_of_question,a*length_of_question+b,color = 'r')\n",
    "plt.show()\n",
    "plt.show()"
   ]
  }
 ],
 "metadata": {
  "kernelspec": {
   "display_name": "Python 3 (ipykernel)",
   "language": "python",
   "name": "python3"
  },
  "language_info": {
   "codemirror_mode": {
    "name": "ipython",
    "version": 3
   },
   "file_extension": ".py",
   "mimetype": "text/x-python",
   "name": "python",
   "nbconvert_exporter": "python",
   "pygments_lexer": "ipython3",
   "version": "3.11.9"
  }
 },
 "nbformat": 4,
 "nbformat_minor": 5
}
